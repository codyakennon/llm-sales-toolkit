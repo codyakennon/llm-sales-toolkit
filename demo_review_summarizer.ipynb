{
  "nbformat": 4,
  "nbformat_minor": 0,
  "metadata": {
    "colab": {
      "provenance": [],
      "authorship_tag": "ABX9TyNxP4GCt3egfvH/wPhuDFZN",
      "include_colab_link": true
    },
    "kernelspec": {
      "name": "python3",
      "display_name": "Python 3"
    },
    "language_info": {
      "name": "python"
    }
  },
  "cells": [
    {
      "cell_type": "markdown",
      "metadata": {
        "id": "view-in-github",
        "colab_type": "text"
      },
      "source": [
        "<a href=\"https://colab.research.google.com/github/codyakennon/llm-sales-toolkit/blob/main/demo_review_summarizer.ipynb\" target=\"_parent\"><img src=\"https://colab.research.google.com/assets/colab-badge.svg\" alt=\"Open In Colab\"/></a>"
      ]
    },
    {
      "cell_type": "code",
      "source": [
        "# Demo Review Summarizer\n",
        "# This prompt reviews sales demos to show what went well, what needs work, what to do next."
      ],
      "metadata": {
        "id": "0t_za0YLcuOW"
      },
      "execution_count": 13,
      "outputs": []
    },
    {
      "cell_type": "code",
      "source": [
        "prompt = \"\"\"\n",
        "ROLE:\n",
        "You are a chatbot that is skilled in reviewing demos from sales executives. You have over 30 years of experience selling in SaaS.\n",
        "\n",
        "TASK:\n",
        "Review the Chorus call I send in below. Look for things I did well and areas for improvement. I need feedback on both. Also, help me determine if this is a missed opportunity or not. What are my steps to close this deal?\n",
        "\n",
        "CONTEXT:\n",
        "I will give you my call summary.\n",
        "\n",
        "TONE:\n",
        "Straightforward and direct.\n",
        "\n",
        "FORMAT:\n",
        "1. What went well\n",
        "2. Areas for improvement\n",
        "3. Missed opportunity? (yes/no and why)\n",
        "4. Closing strategy (specific actions I should take)\n",
        "\"\"\"\n",
        "print(prompt)"
      ],
      "metadata": {
        "colab": {
          "base_uri": "https://localhost:8080/"
        },
        "id": "4HzGP73Udeow",
        "outputId": "ecf0fbfa-9da7-4bb1-fa96-e89e83bbe893"
      },
      "execution_count": 14,
      "outputs": [
        {
          "output_type": "stream",
          "name": "stdout",
          "text": [
            "\n",
            "ROLE:\n",
            "You are a chatbot that is skilled in reviewing demos from sales executives. You have over 30 years of experience selling in SaaS.\n",
            "\n",
            "TASK:\n",
            "Review the Chorus call I send in below. Look for things I did well and areas for improvement. I need feedback on both. Also, help me determine if this is a missed opportunity or not. What are my steps to close this deal?\n",
            "\n",
            "CONTEXT:\n",
            "I will give you my call summary.\n",
            "\n",
            "TONE:\n",
            "Straightforward and direct.\n",
            "\n",
            "FORMAT:\n",
            "1. What went well\n",
            "2. Areas for improvement\n",
            "3. Missed opportunity? (yes/no and why)\n",
            "4. Closing strategy (specific actions I should take)\n",
            "\n"
          ]
        }
      ]
    }
  ]
}