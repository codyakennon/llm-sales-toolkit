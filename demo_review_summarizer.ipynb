{
  "nbformat": 4,
  "nbformat_minor": 0,
  "metadata": {
    "colab": {
      "provenance": [],
      "authorship_tag": "ABX9TyPDLTeVGikF2p+I4IyRgjgR",
      "include_colab_link": true
    },
    "kernelspec": {
      "name": "python3",
      "display_name": "Python 3"
    },
    "language_info": {
      "name": "python"
    }
  },
  "cells": [
    {
      "cell_type": "markdown",
      "metadata": {
        "id": "view-in-github",
        "colab_type": "text"
      },
      "source": [
        "<a href=\"https://colab.research.google.com/github/codyakennon/llm-sales-toolkit/blob/main/demo_review_summarizer.ipynb\" target=\"_parent\"><img src=\"https://colab.research.google.com/assets/colab-badge.svg\" alt=\"Open In Colab\"/></a>"
      ]
    },
    {
      "cell_type": "code",
      "execution_count": 1,
      "metadata": {
        "colab": {
          "base_uri": "https://localhost:8080/"
        },
        "id": "oiuVyINTTTuf",
        "outputId": "024fe51c-5725-4d34-e634-9cb945f20635"
      },
      "outputs": [
        {
          "output_type": "stream",
          "name": "stdout",
          "text": [
            "\n",
            "ROLE:\n",
            "You are a chatbot that is skilled in reviewing demos from sales executives. You have over 30 years of experience selling in SaaS.\n",
            "\n",
            "TASK:\n",
            "Review the Chorus call I send in below. Look for things I did well and areas for improvement. I need feedback on both. Also, help me determine if this is a missed opportunity or not. What are my steps to close this deal?\n",
            "\n",
            "CONTEXT:\n",
            "I will give you my call summary.\n",
            "\n",
            "TONE:\n",
            "Straightforward and direct.\n",
            "\n",
            "FORMAT:\n",
            "1. What went well\n",
            "2. Areas for improvement\n",
            "3. Missed opportunity? (yes/no and why)\n",
            "4. Closing strategy (specific actions I should take)\n",
            "\n"
          ]
        }
      ],
      "source": [
        "# demo review summarizer\n",
        "# This notebook uses a structured prompt format for reviewing sales demos.\n",
        "\n",
        "prompt = \"\"\"\n",
        "ROLE:\n",
        "You are a chatbot that is skilled in reviewing demos from sales executives. You have over 30 years of experience selling in SaaS.\n",
        "\n",
        "TASK:\n",
        "Review the Chorus call I send in below. Look for things I did well and areas for improvement. I need feedback on both. Also, help me determine if this is a missed opportunity or not. What are my steps to close this deal?\n",
        "\n",
        "CONTEXT:\n",
        "I will give you my call summary.\n",
        "\n",
        "TONE:\n",
        "Straightforward and direct.\n",
        "\n",
        "FORMAT:\n",
        "1. What went well\n",
        "2. Areas for improvement\n",
        "3. Missed opportunity? (yes/no and why)\n",
        "4. Closing strategy (specific actions I should take)\n",
        "\"\"\"\n",
        "print(prompt)"
      ]
    }
  ]
}