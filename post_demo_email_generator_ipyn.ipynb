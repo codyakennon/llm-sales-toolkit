{
  "nbformat": 4,
  "nbformat_minor": 0,
  "metadata": {
    "colab": {
      "provenance": [],
      "authorship_tag": "ABX9TyPfsfbR6PIxUPKZKk9AUvwU",
      "include_colab_link": true
    },
    "kernelspec": {
      "name": "python3",
      "display_name": "Python 3"
    },
    "language_info": {
      "name": "python"
    }
  },
  "cells": [
    {
      "cell_type": "markdown",
      "metadata": {
        "id": "view-in-github",
        "colab_type": "text"
      },
      "source": [
        "<a href=\"https://colab.research.google.com/github/codyakennon/llm-sales-toolkit/blob/main/post_demo_email_generator_ipyn.ipynb\" target=\"_parent\"><img src=\"https://colab.research.google.com/assets/colab-badge.svg\" alt=\"Open In Colab\"/></a>"
      ]
    },
    {
      "cell_type": "code",
      "source": [
        "#post-demo sales recap email generator\n",
        "#This notebook uses a structured prompt to generate a sales follow up email based on demo notes"
      ],
      "metadata": {
        "id": "GmRdIGV9OgKs"
      },
      "execution_count": null,
      "outputs": []
    },
    {
      "cell_type": "code",
      "source": [
        "prompt = \"\"\"\n",
        "You are an email writer tasked with creating a professional post-demo sales recap email based on meeting transcript/notes.\n",
        "\n",
        "Include:\n",
        "- Personalized thank-you addressing pain points\n",
        "- Opening line: \"I've outlined our call below\"\n",
        "- What You're Looking For: product bullets with feature-to-benefit link\n",
        "- Next Steps: numbered list with follow-up\n",
        "- Brief, warm closing and signature\n",
        "- Keep under 250 words\n",
        "\n",
        "Only include KnowBe4 products that were actually discussed from the following list:\n",
        "KnowBe4 Security Awareness Training, PhishER, AIDA, Security Coach, Phish Alert Button (PAB), Compliance Plus, Defend\n",
        "\n",
        "Meeting Notes:\n",
        "- Prospect: Jane from Acme Corp\n",
        "- Pain points: employees clicking phishing emails, no consistent reporting\n",
        "- Products demoed: Security Awareness Training, Phish Alert Button\n",
        "- Next meeting: July 12\n",
        "\"\"\"\n",
        "\n",
        "print(prompt)"
      ],
      "metadata": {
        "colab": {
          "base_uri": "https://localhost:8080/"
        },
        "collapsed": true,
        "id": "19r7z_g2PcKr",
        "outputId": "33da9c3c-c8a9-4e7e-f549-1057f6745025"
      },
      "execution_count": null,
      "outputs": [
        {
          "output_type": "stream",
          "name": "stdout",
          "text": [
            "\n",
            "You are an email writer tasked with creating a professional post-demo sales recap email based on meeting transcript/notes.\n",
            "\n",
            "Include:\n",
            "- Personalized thank-you addressing pain points\n",
            "- Opening line: \"I've outlined our call below\"\n",
            "- What You're Looking For: product bullets with feature-to-benefit link\n",
            "- Next Steps: numbered list with follow-up\n",
            "- Brief, warm closing and signature\n",
            "- Keep under 250 words\n",
            "\n",
            "Only include KnowBe4 products that were actually discussed from the following list:\n",
            "KnowBe4 Security Awareness Training, PhishER, AIDA, Security Coach, Phish Alert Button (PAB), Compliance Plus, Defend\n",
            "\n",
            "Meeting Notes:\n",
            "- Prospect: Jane from Acme Corp\n",
            "- Pain points: employees clicking phishing emails, no consistent reporting\n",
            "- Products demoed: Security Awareness Training, Phish Alert Button\n",
            "- Next meeting: July 12\n",
            "\n"
          ]
        }
      ]
    }
  ]
}